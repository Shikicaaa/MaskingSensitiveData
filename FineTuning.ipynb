{
  "nbformat": 4,
  "nbformat_minor": 0,
  "metadata": {
    "colab": {
      "provenance": []
    },
    "kernelspec": {
      "name": "python3",
      "display_name": "Python 3"
    },
    "language_info": {
      "name": "python"
    }
  },
  "cells": [
    {
      "cell_type": "code",
      "source": [
        "!pip install openai"
      ],
      "metadata": {
        "id": "MB6rZj4rds1i"
      },
      "execution_count": null,
      "outputs": []
    },
    {
      "cell_type": "code",
      "source": [
        "import os\n",
        "import re\n",
        "from openai import OpenAI"
      ],
      "metadata": {
        "id": "B9ZwIeVrdyjc"
      },
      "execution_count": null,
      "outputs": []
    },
    {
      "cell_type": "code",
      "source": [
        "f = open(\"api_key.txt\",\"r\")\n",
        "key = f.readline()\n",
        "os.environ['OPENAI_API_KEY'] = str(key)"
      ],
      "metadata": {
        "id": "meGl4PErd1aG"
      },
      "execution_count": null,
      "outputs": []
    },
    {
      "cell_type": "code",
      "source": [
        "def mergeText(text):\n",
        "    txt1 = re.sub(r'\\b\\d+(\\.\\d+)?\\s*(kg|gram|grams|lb|pounds|pound)s?\\b','[PERSONAL]',text, flags=re.MULTILINE)\n",
        "    result = re.sub(r'\\[PERSONAL\\](\\s*(&|and|or|in| |,|to)\\s*\\[PERSONAL\\])+', '[PERSONAL]', txt1, flags=re.MULTILINE)\n",
        "    return result"
      ],
      "metadata": {
        "id": "Tro50SbQd5lS"
      },
      "execution_count": null,
      "outputs": []
    },
    {
      "cell_type": "code",
      "source": [
        "client = OpenAI()\n",
        "\n",
        "system_prompt = \"\"\"\n",
        "Your job is to replace all personal and sensitive data in the given text with a single placeholder '[PERSONAL]' on top of that you will need to mask:\n",
        "- Dates and/or time and/or months\n",
        "- Street numbers\n",
        "- Year numbers\n",
        "- Phone numbers\n",
        "- Credit card details\n",
        "- Promo codes\n",
        "- Personal belongings\n",
        "- E-mails\n",
        "- Adresses, IP Addresses, MAC Address, Ports\n",
        "- Location names or what they are called\n",
        "- Dining place names\n",
        "- Date of birth, age\n",
        "- Age in brackets\n",
        "- Their height and/or weight\n",
        "- Languages they speak\n",
        "- What they did or were charged for\n",
        "- Names of educational institutions, Schools, Faculties\n",
        "- Gender\n",
        "- Acts someone did\n",
        "also with a '[PERSONAL]' placeholder. If there exists more than 1 consecutive occurance of '[Personal]' in the text, you will merge them into one.\n",
        "If in a text exists a decorational name such as color or a adjectives, look for its context\n",
        "\"\"\"\n",
        "user_prompt = \"\"\"\n",
        "INTERPOL REPORT\n",
        "\n",
        "Identity particulars\n",
        "Family name Alvarez Herrera\n",
        "Forename Hector Leonel\n",
        "Gender Male\n",
        "Date of birth 19/12/1961 (62 years old)\n",
        "Place of birth HUEHUETENANGO, Guatemala\n",
        "Nationality Guatemala\n",
        "\n",
        "Physical description\n",
        "Height 1.7 meters\n",
        "Weight 90 kilograms\n",
        "Colour of hair White\n",
        "Colour of eyes Brown\n",
        "\n",
        "Details\n",
        "Language spoken Spanish\n",
        "\n",
        "Charges\n",
        "Asesinato\n",
        "\"\"\".strip()\n",
        "\n",
        "completion = client.chat.completions.create(\n",
        "    model=\"gpt-3.5-turbo\",\n",
        "    messages=[\n",
        "        {\"role\": \"system\", \"content\": system_prompt},\n",
        "        {\"role\": \"user\", \"content\": user_prompt}\n",
        "    ],\n",
        "    temperature=0,\n",
        "    max_tokens=400,\n",
        "    presence_penalty=0.0,\n",
        "    top_p = 1,\n",
        ")\n",
        "\n",
        "print(\"Masked Text:\")\n",
        "\n",
        "masked_text = completion.choices[0].message.content\n",
        "print(masked_text)"
      ],
      "metadata": {
        "id": "Mik_kDChd-9d"
      },
      "execution_count": null,
      "outputs": []
    },
    {
      "cell_type": "markdown",
      "source": [
        "**Final result**: The output is now filtered with function *mergeText* which could be optimized for more optimal and better results."
      ],
      "metadata": {
        "id": "qyRxeDhMeJbh"
      }
    },
    {
      "cell_type": "code",
      "source": [
        "final_msg = mergeText(masked_text)\n",
        "print(final_msg)"
      ],
      "metadata": {
        "id": "OO5YFQhueoXo"
      },
      "execution_count": null,
      "outputs": []
    },
    {
      "cell_type": "code",
      "source": [],
      "metadata": {
        "id": "E0-OU-rffX6I"
      },
      "execution_count": null,
      "outputs": []
    }
  ]
}